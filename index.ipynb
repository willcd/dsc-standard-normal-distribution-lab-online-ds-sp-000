{
 "cells": [
  {
   "cell_type": "markdown",
   "metadata": {},
   "source": [
    "# The Standard Normal Distribution - Lab\n",
    "\n",
    "## Introduction\n",
    "\n",
    "In the previous lesson, you learned about the formula of the $z$-score, and looked at a few toy examples to explain an observation's standard score for normally distributed data. In this lab, you'll practice by standardizing and visualize some normal distributions.\n",
    "\n",
    "## Objectives\n",
    "\n",
    "You will be able to:\n",
    "\n",
    "* Calculate and interpret the z-score (standard score) for an observation from normally distributed data\n",
    "* Visualize data before and after standardization to visually inspect the results\n",
    "\n",
    "## Let's get started\n",
    "\n",
    "> A $z$-score can help identify how many standard deviations above or below the mean a certain observation is. Every time you obtain a $z$-score, use “above” or “below” in your phrasing.\n",
    "\n",
    "The yields of apple trees in an orchard have been recorded in the file `yield.csv`. Each observation is recorded by weighing apples from trees (in pounds) and adding their weights. There are 5000 observations in total for this data. \n",
    "\n",
    "## Load, visualize and give general comments about the dataset\n",
    "\n",
    "Use pandas for loading and inspecting the data."
   ]
  },
  {
   "cell_type": "code",
   "execution_count": 1,
   "metadata": {},
   "outputs": [
    {
     "name": "stdout",
     "output_type": "stream",
     "text": [
      "            Weight\n",
      "count  5000.000000\n",
      "mean     42.407624\n",
      "std       6.003697\n",
      "min      21.931212\n",
      "25%      38.371895\n",
      "50%      42.352304\n",
      "75%      46.458478\n",
      "max      65.548170\n"
     ]
    }
   ],
   "source": [
    "# Import libraries\n",
    "import pandas as pd\n",
    "from matplotlib import pyplot as plt\n",
    "import seaborn as sns\n",
    "import warnings\n",
    "warnings.filterwarnings(action='ignore', category=FutureWarning)\n",
    "import numpy as np\n",
    "%matplotlib inline\n",
    "\n",
    "# Read the yield data as a dataframe\n",
    "df1 = pd.read_csv('yield.csv')\n",
    "df1.columns=['Weight']\n",
    "print(df1.describe())"
   ]
  },
  {
   "cell_type": "code",
   "execution_count": 2,
   "metadata": {},
   "outputs": [
    {
     "data": {
      "image/png": "[encoded data removed]",
      "text/plain": [
       "<Figure size 576x432 with 1 Axes>"
      ]
     },
     "metadata": {
      "needs_background": "light"
     },
     "output_type": "display_data"
    }
   ],
   "source": [
    "plt.figure(figsize=(8,6))\n",
    "plt.style.use('ggplot')\n",
    "\n",
    "g = sns.distplot(df1['Weight'], bins='auto')\n",
    "plt.xlabel('Weight');"
   ]
  },
  {
   "cell_type": "code",
   "execution_count": 3,
   "metadata": {},
   "outputs": [],
   "source": [
    "# Your comments about the data here\n",
    "\n",
    "# The data seems to be normally distributed as can be seen above"
   ]
  },
  {
   "cell_type": "markdown",
   "metadata": {},
   "source": [
    "## Briefly explain what each value represents in this data set"
   ]
  },
  {
   "cell_type": "code",
   "execution_count": 4,
   "metadata": {},
   "outputs": [],
   "source": [
    "# Your answer here\n",
    "\n",
    "# Each value is the total weight of all apples gathered from a single tree"
   ]
  },
  {
   "cell_type": "markdown",
   "metadata": {},
   "source": [
    "## Define the interval bounds which contain 99% of the observations   \n",
    "\n",
    "> **Hint**: Recall the empirical rule related to $3\\sigma$."
   ]
  },
  {
   "cell_type": "code",
   "execution_count": 5,
   "metadata": {},
   "outputs": [
    {
     "data": {
      "text/plain": [
       "{'count': 5000.0,\n",
       " 'mean': 42.40762385776269,\n",
       " 'std': 6.003696504846302,\n",
       " 'min': 21.93121221285836,\n",
       " '25%': 38.37189495161705,\n",
       " '50%': 42.352303613800444,\n",
       " '75%': 46.458478204159746,\n",
       " 'max': 65.54817042071103}"
      ]
     },
     "execution_count": 5,
     "metadata": {},
     "output_type": "execute_result"
    }
   ],
   "source": [
    "# Perform any calculations necessary here\n",
    "stats = list(df1.describe()['Weight'].keys())\n",
    "df1_stats = {}\n",
    "for stat in stats:\n",
    "    df1_stats[stat] = df1.describe()['Weight'][stat]\n",
    "df1_stats"
   ]
  },
  {
   "cell_type": "code",
   "execution_count": 6,
   "metadata": {},
   "outputs": [
    {
     "name": "stdout",
     "output_type": "stream",
     "text": [
      "Standard deviation: 6.003696504846302\n",
      "Mean: 42.40762385776269\n",
      "99% bounds: (24.39653434322378, 60.418713372301596)\n",
      "99% range: 36.02217902907782\n"
     ]
    }
   ],
   "source": [
    "sd = float(df1_stats['std'])\n",
    "three_z = 3 * sd\n",
    "\n",
    "mean = float(df1_stats['mean'])\n",
    "\n",
    "upper = mean + three_z\n",
    "lower = mean - three_z\n",
    "three_z_range = upper - lower\n",
    "print(f'Standard deviation: {sd}\\nMean: {mean}\\n99% bounds: {lower, upper}\\n99% range: {three_z_range}')"
   ]
  },
  {
   "cell_type": "markdown",
   "metadata": {},
   "source": [
    "## Compute and interpret the z-score for a tree yielding 35 pounds of apples"
   ]
  },
  {
   "cell_type": "code",
   "execution_count": 7,
   "metadata": {},
   "outputs": [
    {
     "data": {
      "text/plain": [
       "-1.2338438246808623"
      ]
     },
     "execution_count": 7,
     "metadata": {},
     "output_type": "execute_result"
    }
   ],
   "source": [
    "def z_score(x):\n",
    "    return (x - mean) / sd\n",
    "\n",
    "# Calculate z\n",
    "\n",
    "z_score(35)"
   ]
  },
  {
   "cell_type": "code",
   "execution_count": 8,
   "metadata": {},
   "outputs": [],
   "source": [
    "# Interpret the result\n",
    "\n",
    "# A tree yielding 35 lbs of apples is a little over 1 std_dev below the mean\n",
    "# Thus it's somewhat outside of the central 68% of results"
   ]
  },
  {
   "cell_type": "markdown",
   "metadata": {},
   "source": [
    "## Suppose a tree has a z-score of 1.85. Interpret this z-score. What is the yield of this tree?"
   ]
  },
  {
   "cell_type": "code",
   "execution_count": 9,
   "metadata": {},
   "outputs": [],
   "source": [
    "# Interpret the z score\n",
    "# This means it's almost 2 std_dev's above the mean, so nearly in the top 5% of yields"
   ]
  },
  {
   "cell_type": "code",
   "execution_count": 10,
   "metadata": {},
   "outputs": [
    {
     "data": {
      "text/plain": [
       "53.514462391728344"
      ]
     },
     "execution_count": 10,
     "metadata": {},
     "output_type": "execute_result"
    }
   ],
   "source": [
    "def z_revert(z):\n",
    "    return mean + z*sd\n",
    "\n",
    "# Calculate yield\n",
    "z_revert(1.85)"
   ]
  },
  {
   "cell_type": "code",
   "execution_count": 11,
   "metadata": {},
   "outputs": [],
   "source": [
    "# What is the yield ?\n",
    "\n",
    "# A tree with a z-score of 1.85 yields ~53 1/2 pounds of apples"
   ]
  },
  {
   "cell_type": "markdown",
   "metadata": {},
   "source": [
    "##  Convert each tree’s yield to a z-score so the new variable is the “z-score for weight”\n",
    "\n",
    "The units are still the apple trees. For the data set of all z-scores:\n",
    "\n",
    "* What is the shape? \n",
    "* The mean? \n",
    "* The standard deviation?"
   ]
  },
  {
   "cell_type": "code",
   "execution_count": 27,
   "metadata": {},
   "outputs": [
    {
     "name": "stdout",
     "output_type": "stream",
     "text": [
      "Mean: 0.00000000000000044622\n",
      "Rounded Mean: 0.0\n",
      "SD: 1.0\n"
     ]
    },
    {
     "data": {
      "image/png": "[encoded data removed]",
      "text/plain": [
       "<Figure size 576x432 with 1 Axes>"
      ]
     },
     "metadata": {},
     "output_type": "display_data"
    }
   ],
   "source": [
    "# Give your solution here \n",
    "z_data = [z_score(x) for x in df1['Weight']]\n",
    "\n",
    "plt.figure(figsize=(8,6))\n",
    "sns.distplot(z_data)\n",
    "plt.xlabel('Z-score')\n",
    "\n",
    "\n",
    "z_mean = np.mean(np.array(z_data))\n",
    "z_sd = np.std((np.array(z_data)))\n",
    "print ('Mean:', '{0:.20f}'.format(z_mean))\n",
    "print ('Rounded Mean:', round(z_mean,1))\n",
    "print ('SD:', round(z_sd, 1));"
   ]
  },
  {
   "cell_type": "code",
   "execution_count": 30,
   "metadata": {},
   "outputs": [],
   "source": [
    "# Your observations\n",
    "\n",
    "# Here is the standard normal distribution, with histogram bars as well as the kde line\n",
    "# It has the same 'shape' as the distribution above - the only differences are:\n",
    "\n",
    "# The mean is 0.0 (well, almost, since it's a random distribution it ends up not exactly 0)\n",
    "# The std_dev is 1.0 as well (same caveat as the mean)\n",
    "# This makes sense, as it's a standardized dataset"
   ]
  },
  {
   "cell_type": "markdown",
   "metadata": {},
   "source": [
    "## Summary\n",
    "\n",
    "In this lab, you practiced your knowledge of the standard normal distribution!"
   ]
  }
 ],
 "metadata": {
  "kernelspec": {
   "display_name": "Python 3",
   "language": "python",
   "name": "python3"
  },
  "language_info": {
   "codemirror_mode": {
    "name": "ipython",
    "version": 3
   },
   "file_extension": ".py",
   "mimetype": "text/x-python",
   "name": "python",
   "nbconvert_exporter": "python",
   "pygments_lexer": "ipython3",
   "version": "3.8.5"
  },
  "toc": {
   "base_numbering": 1,
   "nav_menu": {},
   "number_sections": true,
   "sideBar": true,
   "skip_h1_title": false,
   "title_cell": "Table of Contents",
   "title_sidebar": "Contents",
   "toc_cell": false,
   "toc_position": {},
   "toc_section_display": true,
   "toc_window_display": false
  }
 },
 "nbformat": 4,
 "nbformat_minor": 2
}
